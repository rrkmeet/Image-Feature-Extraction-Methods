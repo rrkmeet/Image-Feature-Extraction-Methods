{
 "cells": [
  {
   "cell_type": "code",
   "execution_count": 2,
   "id": "a92834a3-364f-40a5-bcde-d789a79fd1ca",
   "metadata": {},
   "outputs": [
    {
     "name": "stdout",
     "output_type": "stream",
     "text": [
      "Test Accuracy: 0.4166666666666667\n",
      "Validation Accuracy: 0.75\n"
     ]
    }
   ],
   "source": [
    "import os\n",
    "import numpy as np\n",
    "from skimage.feature import local_binary_pattern\n",
    "from skimage.color import rgb2gray\n",
    "from skimage.io import imread\n",
    "from skimage.transform import resize\n",
    "from sklearn.model_selection import train_test_split\n",
    "from sklearn.ensemble import RandomForestClassifier\n",
    "from sklearn.metrics import accuracy_score\n",
    "\n",
    "# Function to extract LBP features from an image\n",
    "def extract_lbp_features(image):\n",
    "    gray_img = rgb2gray(image)\n",
    "    resized_img = resize(gray_img, (100, 100))  # Resize image to a fixed size\n",
    "    lbp = local_binary_pattern(resized_img, 8, 1, method='uniform')\n",
    "    return lbp.flatten()\n",
    "\n",
    "# Function to load images and extract LBP features\n",
    "def load_images_and_labels(folder_path):\n",
    "    images = []\n",
    "    labels = []\n",
    "    for label in os.listdir(folder_path):\n",
    "        label_folder = os.path.join(folder_path, label)\n",
    "        for image_name in os.listdir(label_folder):\n",
    "            image_path = os.path.join(label_folder, image_name)\n",
    "            image = imread(image_path)\n",
    "            lbp_features = extract_lbp_features(image)\n",
    "            images.append(lbp_features)\n",
    "            labels.append(label)\n",
    "    return np.array(images), np.array(labels)\n",
    "\n",
    "# Paths to train, test, and validation folders\n",
    "train_folder = \"train/\"\n",
    "test_folder = \"test/\"\n",
    "val_folder = \"validation/\"\n",
    "\n",
    "# Load data from train, test, and validation folders\n",
    "X_train, y_train = load_images_and_labels(train_folder)\n",
    "X_test, y_test = load_images_and_labels(test_folder)\n",
    "X_val, y_val = load_images_and_labels(val_folder)\n",
    "\n",
    "# Train a Random Forest classifier\n",
    "clf = RandomForestClassifier(n_estimators=100, random_state=42)\n",
    "clf.fit(X_train, y_train)\n",
    "\n",
    "# Make predictions on test data\n",
    "y_pred_test = clf.predict(X_test)\n",
    "\n",
    "# Calculate accuracy on test data\n",
    "test_accuracy = accuracy_score(y_test, y_pred_test)\n",
    "print(\"Test Accuracy:\", test_accuracy)\n",
    "\n",
    "# Make predictions on validation data\n",
    "y_pred_val = clf.predict(X_val)\n",
    "\n",
    "# Calculate accuracy on validation data\n",
    "val_accuracy = accuracy_score(y_val, y_pred_val)\n",
    "print(\"Validation Accuracy:\", val_accuracy)\n"
   ]
  },
  {
   "cell_type": "code",
   "execution_count": 31,
   "id": "1bdce9d0-8059-4982-964c-96c1293e2c08",
   "metadata": {
    "scrolled": true
   },
   "outputs": [
    {
     "name": "stdout",
     "output_type": "stream",
     "text": [
      "Predicted Label: Leaf smut\n"
     ]
    },
    {
     "name": "stderr",
     "output_type": "stream",
     "text": [
      "C:\\Users\\DELL\\anaconda3\\envs\\rr_tfd\\Lib\\site-packages\\skimage\\feature\\texture.py:353: UserWarning: Applying `local_binary_pattern` to floating-point images may give unexpected results when small numerical differences between adjacent pixels are present. It is recommended to use this function with images of integer dtype.\n",
      "  warnings.warn(\n"
     ]
    }
   ],
   "source": [
    "import numpy as np\n",
    "from skimage.feature import local_binary_pattern\n",
    "from skimage.color import rgb2gray\n",
    "from skimage.io import imread\n",
    "from sklearn.ensemble import RandomForestClassifier\n",
    "\n",
    "# Function to extract LBP features from an image\n",
    "def extract_lbp_features(image):\n",
    "    gray_img = rgb2gray(image)\n",
    "    resized_img = resize(gray_img, (100, 100))  # Resize image to a fixed size\n",
    "    lbp = local_binary_pattern(resized_img, 8, 1, method='uniform')\n",
    "    return lbp.flatten()\n",
    "\n",
    "# Load the trained classifier (clf) here\n",
    "\n",
    "# Load and predict a new image\n",
    "def predict_new_image(image_path):\n",
    "    # Load the image\n",
    "    new_image = imread(image_path)\n",
    "    # Extract LBP features\n",
    "    lbp_features = extract_lbp_features(new_image)\n",
    "    # Reshape the features to match the input shape of the classifier\n",
    "    lbp_features = lbp_features.reshape(1, -1)\n",
    "    # Predict the class label\n",
    "    predicted_label = clf.predict(lbp_features)\n",
    "    return predicted_label[0]\n",
    "\n",
    "# Path to the new image\n",
    "new_image_path = \"C:/Users/DELL/Desktop/ImagewithLBP/Rice/Leaf smut/DSC_0505.jpg\"\n",
    "\n",
    "# Predict the new image\n",
    "predicted_label = predict_new_image(new_image_path)\n",
    "print(\"Predicted Label:\", predicted_label)\n"
   ]
  },
  {
   "cell_type": "code",
   "execution_count": 65,
   "id": "e7eedb3a-d01f-4a75-b0cb-31fea7816348",
   "metadata": {},
   "outputs": [
    {
     "name": "stderr",
     "output_type": "stream",
     "text": [
      "C:\\Users\\DELL\\anaconda3\\envs\\rr_tfd\\Lib\\site-packages\\skimage\\feature\\texture.py:353: UserWarning: Applying `local_binary_pattern` to floating-point images may give unexpected results when small numerical differences between adjacent pixels are present. It is recommended to use this function with images of integer dtype.\n",
      "  warnings.warn(\n",
      "Exception in Tkinter callback\n",
      "Traceback (most recent call last):\n",
      "  File \"C:\\Users\\DELL\\anaconda3\\envs\\rr_tfd\\Lib\\tkinter\\__init__.py\", line 1948, in __call__\n",
      "    return self.func(*args)\n",
      "           ^^^^^^^^^^^^^^^^\n",
      "  File \"C:\\Users\\DELL\\AppData\\Local\\Temp\\ipykernel_15708\\3809305865.py\", line 55, in classify_image\n",
      "    predicted_label = labels[predicted_label_index]\n",
      "                      ~~~~~~^^^^^^^^^^^^^^^^^^^^^^^\n",
      "TypeError: list indices must be integers or slices, not numpy.str_\n"
     ]
    },
    {
     "name": "stdout",
     "output_type": "stream",
     "text": [
      "Brown spot\n"
     ]
    }
   ],
   "source": [
    "import tkinter as tk\n",
    "from tkinter import filedialog, messagebox\n",
    "from PIL import Image, ImageTk\n",
    "import numpy as np\n",
    "from sklearn.model_selection import train_test_split\n",
    "from sklearn.ensemble import RandomForestClassifier\n",
    "from sklearn.metrics import accuracy_score\n",
    "from skimage.feature import local_binary_pattern\n",
    "from skimage.color import rgb2gray\n",
    "import joblib\n",
    "\n",
    "class ImageClassifierApp:\n",
    "    def __init__(self, master):\n",
    "        self.master = master\n",
    "        self.master.title(\"Image Classifier\")\n",
    "\n",
    "        self.label_image = tk.Label(master)\n",
    "        self.label_image.pack()\n",
    "\n",
    "        self.btn_browse = tk.Button(master, text=\"Browse Image\", command=self.browse_image)\n",
    "        self.btn_browse.pack(pady=10)\n",
    "\n",
    "        self.btn_classify = tk.Button(master, text=\"Classify Image\", command=self.classify_image)\n",
    "        self.btn_classify.pack(pady=5)\n",
    "\n",
    "        # Load the trained classifiers\n",
    "        self.classifiers = self.load_classifiers()\n",
    "\n",
    "        # Class labels for multi-class classification\n",
    "        self.class_labels = ['Bacterial leaf blight', 'Brown spot', 'Leaf smut']  # Update with your actual class labels\n",
    "\n",
    "    def browse_image(self):\n",
    "        file_path = filedialog.askopenfilename(filetypes=[(\"Image files\", \"*.png;*.jpg;*.jpeg\")])\n",
    "        if file_path:\n",
    "            self.image = Image.open(file_path)\n",
    "            self.image.thumbnail((400, 400))\n",
    "            self.photo = ImageTk.PhotoImage(self.image)\n",
    "            self.label_image.config(image=self.photo)\n",
    "\n",
    "            # Store the image path\n",
    "            self.image_path = file_path\n",
    "\n",
    "    def classify_image(self):\n",
    "        if hasattr(self, 'image_path'):\n",
    "           \n",
    "            img = Image.open(self.image_path)\n",
    "            gray_img = img.convert('L')\n",
    "            gray_img_array = np.array(gray_img)\n",
    "            resized_img = resize(gray_img_array, (100, 100))  # Resize image to a fixed size\n",
    "            lbp = local_binary_pattern(resized_img, 8, 1, method='uniform')\n",
    "            lbp_features = lbp.flatten().reshape(1, -1)\n",
    "            labels = ['Bacterial leaf blight', 'Brown spot', 'Leaf smut']\n",
    "            predicted_label_index = clf.predict(lbp_features)[0]\n",
    "            print(predicted_label_index)\n",
    "            messagebox.showinfo(f\"Classifier Prediction\", f\"The predicted class label is: {predicted_label_index}\")\n",
    "            predicted_label = labels[predicted_label_index]\n",
    "            print(\"Predicted Label:\", element)\n",
    "           \n",
    "        else:\n",
    "            messagebox.showerror(\"Error\", \"Please select an image first.\")\n",
    "\n",
    "    def load_classifiers(self):\n",
    "        classifiers = []\n",
    "        classifier = joblib.load(f\"lbp_randomforest_classifier.pkl\")  # Update with your classifier file names\n",
    "      \n",
    "        return classifiers\n",
    "\n",
    "def main():\n",
    "    root = tk.Tk()\n",
    "    app = ImageClassifierApp(root)\n",
    "    root.mainloop()\n",
    "\n",
    "if __name__ == \"__main__\":\n",
    "    main()\n"
   ]
  }
 ],
 "metadata": {
  "kernelspec": {
   "display_name": "Python 3 (ipykernel)",
   "language": "python",
   "name": "python3"
  },
  "language_info": {
   "codemirror_mode": {
    "name": "ipython",
    "version": 3
   },
   "file_extension": ".py",
   "mimetype": "text/x-python",
   "name": "python",
   "nbconvert_exporter": "python",
   "pygments_lexer": "ipython3",
   "version": "3.11.5"
  }
 },
 "nbformat": 4,
 "nbformat_minor": 5
}
